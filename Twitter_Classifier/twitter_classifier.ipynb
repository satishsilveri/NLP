{
 "cells": [
  {
   "cell_type": "code",
   "execution_count": 1,
   "metadata": {},
   "outputs": [],
   "source": [
    "import json\n",
    "import csv\n",
    "import tweepy\n",
    "import re\n",
    "import pandas as pd"
   ]
  },
  {
   "cell_type": "code",
   "execution_count": 2,
   "metadata": {},
   "outputs": [],
   "source": [
    "consumer_key='JCzkEeG8SWEYOzSLYs58yOMhG'\n",
    "consumer_secret='WovtzcbhjV5yHqdoIeFwChQwuIMlIMnAzV9wH66E3GJkin6fFQ'\n",
    "access_token='1357864325743075330-ApNiBiT577Kd7ZmgOsV9qTdwRuhkeH'\n",
    "access_token_secret='yLmwbrdCqYPVk5DI0aH7vdqkW2gLBcEc8f9IVCKsuNLqL'"
   ]
  },
  {
   "cell_type": "code",
   "execution_count": 3,
   "metadata": {},
   "outputs": [],
   "source": [
    "auth = tweepy.OAuthHandler(consumer_key, consumer_secret)\n",
    "auth.set_access_token(access_token, access_token_secret)\n",
    "\n",
    "#initialize Tweepy API\n",
    "api = tweepy.API(auth)"
   ]
  },
  {
   "cell_type": "code",
   "execution_count": 4,
   "metadata": {},
   "outputs": [],
   "source": [
    "import csv\n",
    "\n",
    "with open(r'D:\\tweet_data.csv','w') as f:\n",
    "    writer = csv.writer(f, delimiter=',', quotechar='\"', quoting=csv.QUOTE_MINIMAL)\n",
    "    writer.writerow(['timestamp', 'tweet_text', 'username', 'followers_count','retweet_count'])\n",
    "    for tweet in tweepy.Cursor(api.search, q='COVID VACCINE -filter:hashtags', \\\n",
    "                                   lang=\"en\", tweet_mode='extended').items(1000):\n",
    "        writer.writerow([tweet.created_at, tweet.full_text.replace('\\n',' ').encode('utf-8'), tweet.user.screen_name.encode('utf-8'),tweet.user.followers_count, tweet.retweet_count])"
   ]
  },
  {
   "cell_type": "markdown",
   "metadata": {},
   "source": [
    "## Read Data"
   ]
  },
  {
   "cell_type": "code",
   "execution_count": 5,
   "metadata": {},
   "outputs": [],
   "source": [
    "data = pd.read_csv(r'D:\\tweet_data.csv')"
   ]
  },
  {
   "cell_type": "code",
   "execution_count": 6,
   "metadata": {},
   "outputs": [
    {
     "data": {
      "text/html": [
       "<div>\n",
       "<style scoped>\n",
       "    .dataframe tbody tr th:only-of-type {\n",
       "        vertical-align: middle;\n",
       "    }\n",
       "\n",
       "    .dataframe tbody tr th {\n",
       "        vertical-align: top;\n",
       "    }\n",
       "\n",
       "    .dataframe thead th {\n",
       "        text-align: right;\n",
       "    }\n",
       "</style>\n",
       "<table border=\"1\" class=\"dataframe\">\n",
       "  <thead>\n",
       "    <tr style=\"text-align: right;\">\n",
       "      <th></th>\n",
       "      <th>timestamp</th>\n",
       "      <th>tweet_text</th>\n",
       "      <th>username</th>\n",
       "      <th>followers_count</th>\n",
       "      <th>retweet_count</th>\n",
       "    </tr>\n",
       "  </thead>\n",
       "  <tbody>\n",
       "    <tr>\n",
       "      <th>0</th>\n",
       "      <td>2021-02-13 01:53:57</td>\n",
       "      <td>b'RT @CNN: Biden says the US will have enough ...</td>\n",
       "      <td>b'mercury_22'</td>\n",
       "      <td>54</td>\n",
       "      <td>596</td>\n",
       "    </tr>\n",
       "    <tr>\n",
       "      <th>1</th>\n",
       "      <td>2021-02-13 01:53:49</td>\n",
       "      <td>b'RT @hildabast: Chile: Managed diversified pr...</td>\n",
       "      <td>b'ggrillo93'</td>\n",
       "      <td>351</td>\n",
       "      <td>3</td>\n",
       "    </tr>\n",
       "    <tr>\n",
       "      <th>2</th>\n",
       "      <td>2021-02-13 01:53:46</td>\n",
       "      <td>b'RT @SeedSparkLive: Make Schools More Human h...</td>\n",
       "      <td>b'jrosspeters'</td>\n",
       "      <td>1012</td>\n",
       "      <td>1</td>\n",
       "    </tr>\n",
       "    <tr>\n",
       "      <th>3</th>\n",
       "      <td>2021-02-13 01:53:43</td>\n",
       "      <td>b'RT @MattHancock: Fantastic that 89% of peopl...</td>\n",
       "      <td>b'DR7fu2pharoh'</td>\n",
       "      <td>16</td>\n",
       "      <td>80</td>\n",
       "    </tr>\n",
       "    <tr>\n",
       "      <th>4</th>\n",
       "      <td>2021-02-13 01:53:42</td>\n",
       "      <td>b'RT @gmanews: People who get a COVID-19 vacci...</td>\n",
       "      <td>b'lesismore333'</td>\n",
       "      <td>27</td>\n",
       "      <td>7</td>\n",
       "    </tr>\n",
       "  </tbody>\n",
       "</table>\n",
       "</div>"
      ],
      "text/plain": [
       "             timestamp                                         tweet_text  \\\n",
       "0  2021-02-13 01:53:57  b'RT @CNN: Biden says the US will have enough ...   \n",
       "1  2021-02-13 01:53:49  b'RT @hildabast: Chile: Managed diversified pr...   \n",
       "2  2021-02-13 01:53:46  b'RT @SeedSparkLive: Make Schools More Human h...   \n",
       "3  2021-02-13 01:53:43  b'RT @MattHancock: Fantastic that 89% of peopl...   \n",
       "4  2021-02-13 01:53:42  b'RT @gmanews: People who get a COVID-19 vacci...   \n",
       "\n",
       "          username  followers_count  retweet_count  \n",
       "0    b'mercury_22'               54            596  \n",
       "1     b'ggrillo93'              351              3  \n",
       "2   b'jrosspeters'             1012              1  \n",
       "3  b'DR7fu2pharoh'               16             80  \n",
       "4  b'lesismore333'               27              7  "
      ]
     },
     "execution_count": 6,
     "metadata": {},
     "output_type": "execute_result"
    }
   ],
   "source": [
    "data.head()"
   ]
  },
  {
   "cell_type": "code",
   "execution_count": 7,
   "metadata": {},
   "outputs": [
    {
     "data": {
      "text/plain": [
       "(1000, 5)"
      ]
     },
     "execution_count": 7,
     "metadata": {},
     "output_type": "execute_result"
    }
   ],
   "source": [
    "data.shape"
   ]
  },
  {
   "cell_type": "markdown",
   "metadata": {},
   "source": [
    "## Create target column\n",
    "\n",
    "As the retweet count is less, I will use followers_count to generate the target class."
   ]
  },
  {
   "cell_type": "code",
   "execution_count": 8,
   "metadata": {},
   "outputs": [],
   "source": [
    "def get_target_column(followers_count):\n",
    "    \n",
    "    if followers_count > 1000:\n",
    "        return 'Class A'\n",
    "    else:\n",
    "        return 'Class B'\n",
    "    \n",
    "data['target'] = data['followers_count'].apply(get_target_column)"
   ]
  },
  {
   "cell_type": "code",
   "execution_count": 9,
   "metadata": {},
   "outputs": [
    {
     "data": {
      "text/html": [
       "<div>\n",
       "<style scoped>\n",
       "    .dataframe tbody tr th:only-of-type {\n",
       "        vertical-align: middle;\n",
       "    }\n",
       "\n",
       "    .dataframe tbody tr th {\n",
       "        vertical-align: top;\n",
       "    }\n",
       "\n",
       "    .dataframe thead th {\n",
       "        text-align: right;\n",
       "    }\n",
       "</style>\n",
       "<table border=\"1\" class=\"dataframe\">\n",
       "  <thead>\n",
       "    <tr style=\"text-align: right;\">\n",
       "      <th></th>\n",
       "      <th>timestamp</th>\n",
       "      <th>tweet_text</th>\n",
       "      <th>username</th>\n",
       "      <th>followers_count</th>\n",
       "      <th>retweet_count</th>\n",
       "      <th>target</th>\n",
       "    </tr>\n",
       "  </thead>\n",
       "  <tbody>\n",
       "    <tr>\n",
       "      <th>0</th>\n",
       "      <td>2021-02-13 01:53:57</td>\n",
       "      <td>b'RT @CNN: Biden says the US will have enough ...</td>\n",
       "      <td>b'mercury_22'</td>\n",
       "      <td>54</td>\n",
       "      <td>596</td>\n",
       "      <td>Class B</td>\n",
       "    </tr>\n",
       "    <tr>\n",
       "      <th>1</th>\n",
       "      <td>2021-02-13 01:53:49</td>\n",
       "      <td>b'RT @hildabast: Chile: Managed diversified pr...</td>\n",
       "      <td>b'ggrillo93'</td>\n",
       "      <td>351</td>\n",
       "      <td>3</td>\n",
       "      <td>Class B</td>\n",
       "    </tr>\n",
       "    <tr>\n",
       "      <th>2</th>\n",
       "      <td>2021-02-13 01:53:46</td>\n",
       "      <td>b'RT @SeedSparkLive: Make Schools More Human h...</td>\n",
       "      <td>b'jrosspeters'</td>\n",
       "      <td>1012</td>\n",
       "      <td>1</td>\n",
       "      <td>Class A</td>\n",
       "    </tr>\n",
       "    <tr>\n",
       "      <th>3</th>\n",
       "      <td>2021-02-13 01:53:43</td>\n",
       "      <td>b'RT @MattHancock: Fantastic that 89% of peopl...</td>\n",
       "      <td>b'DR7fu2pharoh'</td>\n",
       "      <td>16</td>\n",
       "      <td>80</td>\n",
       "      <td>Class B</td>\n",
       "    </tr>\n",
       "    <tr>\n",
       "      <th>4</th>\n",
       "      <td>2021-02-13 01:53:42</td>\n",
       "      <td>b'RT @gmanews: People who get a COVID-19 vacci...</td>\n",
       "      <td>b'lesismore333'</td>\n",
       "      <td>27</td>\n",
       "      <td>7</td>\n",
       "      <td>Class B</td>\n",
       "    </tr>\n",
       "    <tr>\n",
       "      <th>...</th>\n",
       "      <td>...</td>\n",
       "      <td>...</td>\n",
       "      <td>...</td>\n",
       "      <td>...</td>\n",
       "      <td>...</td>\n",
       "      <td>...</td>\n",
       "    </tr>\n",
       "    <tr>\n",
       "      <th>995</th>\n",
       "      <td>2021-02-13 01:26:16</td>\n",
       "      <td>b'RT @CarlosGSmith: \"All of this confusion [wi...</td>\n",
       "      <td>b'joan_sheba'</td>\n",
       "      <td>1767</td>\n",
       "      <td>15</td>\n",
       "      <td>Class A</td>\n",
       "    </tr>\n",
       "    <tr>\n",
       "      <th>996</th>\n",
       "      <td>2021-02-13 01:26:16</td>\n",
       "      <td>b'RT @martinmorrey: @BorisJohnson \"My concern,...</td>\n",
       "      <td>b'BarbaraGoggin4'</td>\n",
       "      <td>907</td>\n",
       "      <td>6</td>\n",
       "      <td>Class B</td>\n",
       "    </tr>\n",
       "    <tr>\n",
       "      <th>997</th>\n",
       "      <td>2021-02-13 01:26:15</td>\n",
       "      <td>b'RT @ALEXNEWMAN_JOU: Despite my pleading, dad...</td>\n",
       "      <td>b'Freeplanet7'</td>\n",
       "      <td>813</td>\n",
       "      <td>435</td>\n",
       "      <td>Class B</td>\n",
       "    </tr>\n",
       "    <tr>\n",
       "      <th>998</th>\n",
       "      <td>2021-02-13 01:26:14</td>\n",
       "      <td>b'RT @NPR: President Biden has finalized deals...</td>\n",
       "      <td>b'DBChirpy'</td>\n",
       "      <td>872</td>\n",
       "      <td>366</td>\n",
       "      <td>Class B</td>\n",
       "    </tr>\n",
       "    <tr>\n",
       "      <th>999</th>\n",
       "      <td>2021-02-13 01:26:14</td>\n",
       "      <td>b'RT @jeneps: President Biden is going to visi...</td>\n",
       "      <td>b'drj_futureprez'</td>\n",
       "      <td>264</td>\n",
       "      <td>39</td>\n",
       "      <td>Class B</td>\n",
       "    </tr>\n",
       "  </tbody>\n",
       "</table>\n",
       "<p>1000 rows × 6 columns</p>\n",
       "</div>"
      ],
      "text/plain": [
       "               timestamp                                         tweet_text  \\\n",
       "0    2021-02-13 01:53:57  b'RT @CNN: Biden says the US will have enough ...   \n",
       "1    2021-02-13 01:53:49  b'RT @hildabast: Chile: Managed diversified pr...   \n",
       "2    2021-02-13 01:53:46  b'RT @SeedSparkLive: Make Schools More Human h...   \n",
       "3    2021-02-13 01:53:43  b'RT @MattHancock: Fantastic that 89% of peopl...   \n",
       "4    2021-02-13 01:53:42  b'RT @gmanews: People who get a COVID-19 vacci...   \n",
       "..                   ...                                                ...   \n",
       "995  2021-02-13 01:26:16  b'RT @CarlosGSmith: \"All of this confusion [wi...   \n",
       "996  2021-02-13 01:26:16  b'RT @martinmorrey: @BorisJohnson \"My concern,...   \n",
       "997  2021-02-13 01:26:15  b'RT @ALEXNEWMAN_JOU: Despite my pleading, dad...   \n",
       "998  2021-02-13 01:26:14  b'RT @NPR: President Biden has finalized deals...   \n",
       "999  2021-02-13 01:26:14  b'RT @jeneps: President Biden is going to visi...   \n",
       "\n",
       "              username  followers_count  retweet_count   target  \n",
       "0        b'mercury_22'               54            596  Class B  \n",
       "1         b'ggrillo93'              351              3  Class B  \n",
       "2       b'jrosspeters'             1012              1  Class A  \n",
       "3      b'DR7fu2pharoh'               16             80  Class B  \n",
       "4      b'lesismore333'               27              7  Class B  \n",
       "..                 ...              ...            ...      ...  \n",
       "995      b'joan_sheba'             1767             15  Class A  \n",
       "996  b'BarbaraGoggin4'              907              6  Class B  \n",
       "997     b'Freeplanet7'              813            435  Class B  \n",
       "998        b'DBChirpy'              872            366  Class B  \n",
       "999  b'drj_futureprez'              264             39  Class B  \n",
       "\n",
       "[1000 rows x 6 columns]"
      ]
     },
     "execution_count": 9,
     "metadata": {},
     "output_type": "execute_result"
    }
   ],
   "source": [
    "data"
   ]
  },
  {
   "cell_type": "markdown",
   "metadata": {},
   "source": [
    "## Preprocess the tweets\n",
    "\n",
    "We will use tweet-preprocessor 0.6.0 package in python. Lets install it."
   ]
  },
  {
   "cell_type": "code",
   "execution_count": 10,
   "metadata": {},
   "outputs": [
    {
     "name": "stdout",
     "output_type": "stream",
     "text": [
      "Requirement already satisfied: tweet-preprocessor in c:\\users\\satis\\anaconda3\\envs\\py369\\lib\\site-packages (0.6.0)\n"
     ]
    }
   ],
   "source": [
    "!pip install tweet-preprocessor"
   ]
  },
  {
   "cell_type": "code",
   "execution_count": 11,
   "metadata": {},
   "outputs": [],
   "source": [
    "import preprocessor as p\n",
    "\n",
    "data['cleaned_text'] = data['tweet_text'].apply(p.clean)"
   ]
  },
  {
   "cell_type": "code",
   "execution_count": 12,
   "metadata": {},
   "outputs": [
    {
     "data": {
      "text/html": [
       "<div>\n",
       "<style scoped>\n",
       "    .dataframe tbody tr th:only-of-type {\n",
       "        vertical-align: middle;\n",
       "    }\n",
       "\n",
       "    .dataframe tbody tr th {\n",
       "        vertical-align: top;\n",
       "    }\n",
       "\n",
       "    .dataframe thead th {\n",
       "        text-align: right;\n",
       "    }\n",
       "</style>\n",
       "<table border=\"1\" class=\"dataframe\">\n",
       "  <thead>\n",
       "    <tr style=\"text-align: right;\">\n",
       "      <th></th>\n",
       "      <th>tweet_text</th>\n",
       "      <th>cleaned_text</th>\n",
       "    </tr>\n",
       "  </thead>\n",
       "  <tbody>\n",
       "    <tr>\n",
       "      <th>0</th>\n",
       "      <td>b'RT @CNN: Biden says the US will have enough ...</td>\n",
       "      <td>b'RT : Biden says the US will have enough Covi...</td>\n",
       "    </tr>\n",
       "    <tr>\n",
       "      <th>1</th>\n",
       "      <td>b'RT @hildabast: Chile: Managed diversified pr...</td>\n",
       "      <td>b'RT : Chile: Managed diversified pre-ordering...</td>\n",
       "    </tr>\n",
       "    <tr>\n",
       "      <th>2</th>\n",
       "      <td>b'RT @SeedSparkLive: Make Schools More Human h...</td>\n",
       "      <td>b'RT : Make Schools More Human '</td>\n",
       "    </tr>\n",
       "    <tr>\n",
       "      <th>3</th>\n",
       "      <td>b'RT @MattHancock: Fantastic that 89% of peopl...</td>\n",
       "      <td>b'RT : Fantastic that % of people say they wou...</td>\n",
       "    </tr>\n",
       "    <tr>\n",
       "      <th>4</th>\n",
       "      <td>b'RT @gmanews: People who get a COVID-19 vacci...</td>\n",
       "      <td>b'RT : People who get a COVID-19 vaccine can s...</td>\n",
       "    </tr>\n",
       "    <tr>\n",
       "      <th>...</th>\n",
       "      <td>...</td>\n",
       "      <td>...</td>\n",
       "    </tr>\n",
       "    <tr>\n",
       "      <th>995</th>\n",
       "      <td>b'RT @CarlosGSmith: \"All of this confusion [wi...</td>\n",
       "      <td>b'RT : \"All of this confusion [with ] has real...</td>\n",
       "    </tr>\n",
       "    <tr>\n",
       "      <th>996</th>\n",
       "      <td>b'RT @martinmorrey: @BorisJohnson \"My concern,...</td>\n",
       "      <td>b'RT : \"My concern, as a virologist, is that i...</td>\n",
       "    </tr>\n",
       "    <tr>\n",
       "      <th>997</th>\n",
       "      <td>b'RT @ALEXNEWMAN_JOU: Despite my pleading, dad...</td>\n",
       "      <td>b'RT : Despite my pleading, dad took the covid...</td>\n",
       "    </tr>\n",
       "    <tr>\n",
       "      <th>998</th>\n",
       "      <td>b'RT @NPR: President Biden has finalized deals...</td>\n",
       "      <td>b'RT : President Biden has finalized deals to ...</td>\n",
       "    </tr>\n",
       "    <tr>\n",
       "      <th>999</th>\n",
       "      <td>b'RT @jeneps: President Biden is going to visi...</td>\n",
       "      <td>b'RT : President Biden is going to visit a Pfi...</td>\n",
       "    </tr>\n",
       "  </tbody>\n",
       "</table>\n",
       "<p>1000 rows × 2 columns</p>\n",
       "</div>"
      ],
      "text/plain": [
       "                                            tweet_text  \\\n",
       "0    b'RT @CNN: Biden says the US will have enough ...   \n",
       "1    b'RT @hildabast: Chile: Managed diversified pr...   \n",
       "2    b'RT @SeedSparkLive: Make Schools More Human h...   \n",
       "3    b'RT @MattHancock: Fantastic that 89% of peopl...   \n",
       "4    b'RT @gmanews: People who get a COVID-19 vacci...   \n",
       "..                                                 ...   \n",
       "995  b'RT @CarlosGSmith: \"All of this confusion [wi...   \n",
       "996  b'RT @martinmorrey: @BorisJohnson \"My concern,...   \n",
       "997  b'RT @ALEXNEWMAN_JOU: Despite my pleading, dad...   \n",
       "998  b'RT @NPR: President Biden has finalized deals...   \n",
       "999  b'RT @jeneps: President Biden is going to visi...   \n",
       "\n",
       "                                          cleaned_text  \n",
       "0    b'RT : Biden says the US will have enough Covi...  \n",
       "1    b'RT : Chile: Managed diversified pre-ordering...  \n",
       "2                     b'RT : Make Schools More Human '  \n",
       "3    b'RT : Fantastic that % of people say they wou...  \n",
       "4    b'RT : People who get a COVID-19 vaccine can s...  \n",
       "..                                                 ...  \n",
       "995  b'RT : \"All of this confusion [with ] has real...  \n",
       "996  b'RT : \"My concern, as a virologist, is that i...  \n",
       "997  b'RT : Despite my pleading, dad took the covid...  \n",
       "998  b'RT : President Biden has finalized deals to ...  \n",
       "999  b'RT : President Biden is going to visit a Pfi...  \n",
       "\n",
       "[1000 rows x 2 columns]"
      ]
     },
     "execution_count": 12,
     "metadata": {},
     "output_type": "execute_result"
    }
   ],
   "source": [
    "data[['tweet_text', 'cleaned_text']]"
   ]
  },
  {
   "cell_type": "markdown",
   "metadata": {},
   "source": [
    "As you can observe, the preprocessor cleans all the unwanted urls, emojis etc. Now lets filter out the columns that we know would impact the training."
   ]
  },
  {
   "cell_type": "code",
   "execution_count": 13,
   "metadata": {},
   "outputs": [],
   "source": [
    "cleaned_data = data[['cleaned_text','target']]"
   ]
  },
  {
   "cell_type": "code",
   "execution_count": 14,
   "metadata": {},
   "outputs": [
    {
     "data": {
      "text/html": [
       "<div>\n",
       "<style scoped>\n",
       "    .dataframe tbody tr th:only-of-type {\n",
       "        vertical-align: middle;\n",
       "    }\n",
       "\n",
       "    .dataframe tbody tr th {\n",
       "        vertical-align: top;\n",
       "    }\n",
       "\n",
       "    .dataframe thead th {\n",
       "        text-align: right;\n",
       "    }\n",
       "</style>\n",
       "<table border=\"1\" class=\"dataframe\">\n",
       "  <thead>\n",
       "    <tr style=\"text-align: right;\">\n",
       "      <th></th>\n",
       "      <th>cleaned_text</th>\n",
       "      <th>target</th>\n",
       "    </tr>\n",
       "  </thead>\n",
       "  <tbody>\n",
       "    <tr>\n",
       "      <th>0</th>\n",
       "      <td>b'RT : Biden says the US will have enough Covi...</td>\n",
       "      <td>Class B</td>\n",
       "    </tr>\n",
       "    <tr>\n",
       "      <th>1</th>\n",
       "      <td>b'RT : Chile: Managed diversified pre-ordering...</td>\n",
       "      <td>Class B</td>\n",
       "    </tr>\n",
       "    <tr>\n",
       "      <th>2</th>\n",
       "      <td>b'RT : Make Schools More Human '</td>\n",
       "      <td>Class A</td>\n",
       "    </tr>\n",
       "    <tr>\n",
       "      <th>3</th>\n",
       "      <td>b'RT : Fantastic that % of people say they wou...</td>\n",
       "      <td>Class B</td>\n",
       "    </tr>\n",
       "    <tr>\n",
       "      <th>4</th>\n",
       "      <td>b'RT : People who get a COVID-19 vaccine can s...</td>\n",
       "      <td>Class B</td>\n",
       "    </tr>\n",
       "  </tbody>\n",
       "</table>\n",
       "</div>"
      ],
      "text/plain": [
       "                                        cleaned_text   target\n",
       "0  b'RT : Biden says the US will have enough Covi...  Class B\n",
       "1  b'RT : Chile: Managed diversified pre-ordering...  Class B\n",
       "2                   b'RT : Make Schools More Human '  Class A\n",
       "3  b'RT : Fantastic that % of people say they wou...  Class B\n",
       "4  b'RT : People who get a COVID-19 vaccine can s...  Class B"
      ]
     },
     "execution_count": 14,
     "metadata": {},
     "output_type": "execute_result"
    }
   ],
   "source": [
    "cleaned_data.head()"
   ]
  },
  {
   "cell_type": "markdown",
   "metadata": {},
   "source": [
    "## Convert text to vectors"
   ]
  },
  {
   "cell_type": "code",
   "execution_count": 15,
   "metadata": {},
   "outputs": [],
   "source": [
    "from sklearn.feature_extraction.text import TfidfVectorizer\n",
    "\n",
    "X = cleaned_data[['cleaned_text']]\n",
    "y = cleaned_data[['target']]"
   ]
  },
  {
   "cell_type": "code",
   "execution_count": 16,
   "metadata": {},
   "outputs": [
    {
     "data": {
      "text/plain": [
       "(1000, 1)"
      ]
     },
     "execution_count": 16,
     "metadata": {},
     "output_type": "execute_result"
    }
   ],
   "source": [
    "X.shape"
   ]
  },
  {
   "cell_type": "code",
   "execution_count": 17,
   "metadata": {},
   "outputs": [
    {
     "data": {
      "text/plain": [
       "(1000, 1)"
      ]
     },
     "execution_count": 17,
     "metadata": {},
     "output_type": "execute_result"
    }
   ],
   "source": [
    "y.shape"
   ]
  },
  {
   "cell_type": "code",
   "execution_count": 25,
   "metadata": {},
   "outputs": [],
   "source": [
    "from sklearn.feature_extraction.text import TfidfVectorizer\n",
    "td = TfidfVectorizer(max_features = 4500)\n",
    "X = td.fit_transform(X['cleaned_text'].to_list()).toarray()"
   ]
  },
  {
   "cell_type": "markdown",
   "metadata": {},
   "source": [
    "## Spliting data into train and test sets"
   ]
  },
  {
   "cell_type": "code",
   "execution_count": 26,
   "metadata": {},
   "outputs": [],
   "source": [
    "from sklearn.model_selection import train_test_split"
   ]
  },
  {
   "cell_type": "code",
   "execution_count": 27,
   "metadata": {},
   "outputs": [
    {
     "data": {
      "text/plain": [
       "(1000, 3038)"
      ]
     },
     "execution_count": 27,
     "metadata": {},
     "output_type": "execute_result"
    }
   ],
   "source": [
    "X.shape"
   ]
  },
  {
   "cell_type": "code",
   "execution_count": 28,
   "metadata": {},
   "outputs": [],
   "source": [
    "X_train, X_test, y_train, y_test = train_test_split(X, y, test_size=0.30, random_state=100)"
   ]
  },
  {
   "cell_type": "markdown",
   "metadata": {},
   "source": [
    "## Train a machine learning model"
   ]
  },
  {
   "cell_type": "code",
   "execution_count": 29,
   "metadata": {},
   "outputs": [
    {
     "name": "stderr",
     "output_type": "stream",
     "text": [
      "C:\\Users\\satis\\Anaconda3\\envs\\py369\\lib\\site-packages\\sklearn\\utils\\validation.py:724: DataConversionWarning: A column-vector y was passed when a 1d array was expected. Please change the shape of y to (n_samples, ), for example using ravel().\n",
      "  y = column_or_1d(y, warn=True)\n"
     ]
    },
    {
     "data": {
      "text/plain": [
       "MultinomialNB(alpha=1.0, class_prior=None, fit_prior=True)"
      ]
     },
     "execution_count": 29,
     "metadata": {},
     "output_type": "execute_result"
    }
   ],
   "source": [
    "from sklearn.naive_bayes import MultinomialNB\n",
    "classifier = MultinomialNB()\n",
    "classifier.fit(X_train, y_train)"
   ]
  },
  {
   "cell_type": "code",
   "execution_count": 30,
   "metadata": {},
   "outputs": [],
   "source": [
    "y_pred = classifier.predict(X_test)"
   ]
  },
  {
   "cell_type": "markdown",
   "metadata": {},
   "source": [
    "## Evaluate the Model"
   ]
  },
  {
   "cell_type": "code",
   "execution_count": 31,
   "metadata": {},
   "outputs": [
    {
     "name": "stdout",
     "output_type": "stream",
     "text": [
      "\n",
      " Accuracy:  0.65\n",
      "\n",
      "Classification Report\n",
      "======================================================\n",
      "\n",
      "               precision    recall  f1-score   support\n",
      "\n",
      "     Class A       0.76      0.14      0.23       116\n",
      "     Class B       0.64      0.97      0.77       184\n",
      "\n",
      "    accuracy                           0.65       300\n",
      "   macro avg       0.70      0.56      0.50       300\n",
      "weighted avg       0.69      0.65      0.56       300\n",
      "\n"
     ]
    }
   ],
   "source": [
    "from sklearn.metrics import accuracy_score, classification_report\n",
    "classification_report = classification_report(y_test, y_pred)\n",
    "\n",
    "print('\\n Accuracy: ', accuracy_score(y_test, y_pred))\n",
    "print('\\nClassification Report')\n",
    "print('======================================================')\n",
    "print('\\n', classification_report)"
   ]
  }
 ],
 "metadata": {
  "kernelspec": {
   "display_name": "Python 3",
   "language": "python",
   "name": "python3"
  },
  "language_info": {
   "codemirror_mode": {
    "name": "ipython",
    "version": 3
   },
   "file_extension": ".py",
   "mimetype": "text/x-python",
   "name": "python",
   "nbconvert_exporter": "python",
   "pygments_lexer": "ipython3",
   "version": "3.6.9"
  }
 },
 "nbformat": 4,
 "nbformat_minor": 2
}
